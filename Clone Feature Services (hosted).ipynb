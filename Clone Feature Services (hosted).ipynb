{
 "cells": [
  {
   "cell_type": "markdown",
   "metadata": {},
   "source": [
    "# Clone hosted feature services from AGOL/Portal to AGOL/Portal\n",
    "this sample will clone feature service (hosted) from AGOL to AGOL"
   ]
  },
  {
   "cell_type": "code",
   "execution_count": null,
   "metadata": {},
   "outputs": [],
   "source": [
    "from arcgis.gis import GIS\n",
    "from IPython.display import display\n",
    "from getpass import getpass"
   ]
  },
  {
   "cell_type": "markdown",
   "metadata": {},
   "source": [
    "## Define the source and target portals\n",
    "if you use agol, not necessary to define your agol url. \n",
    "just use GIS(username=\"your username\", password=\"your password\")\n",
    "if you use portal, add your portal url like this GIS(\"https://subdomain.domain.com/webadaptor\", username, password)"
   ]
  },
  {
   "cell_type": "code",
   "execution_count": null,
   "metadata": {},
   "outputs": [],
   "source": [
    "source_username = input('username of portal source:')\n",
    "target_username = input('username of portal target:')\n",
    "source_password = getpass()\n",
    "target_password = getpass()\n",
    "source = GIS(username=source_username, password=source_password)\n",
    "target = GIS(username=target_username, password=target_password)"
   ]
  },
  {
   "cell_type": "markdown",
   "metadata": {},
   "source": [
    "### find username that you want to clone the data\n",
    "input your username"
   ]
  },
  {
   "cell_type": "code",
   "execution_count": null,
   "metadata": {},
   "outputs": [],
   "source": [
    "user_source = input('portal\\'s username data source :')\n",
    "user = source.users.get(user_source)\n",
    "user"
   ]
  },
  {
   "cell_type": "markdown",
   "metadata": {},
   "source": [
    "retrive user's data in root and folders. store the items directory list_items"
   ]
  },
  {
   "cell_type": "code",
   "execution_count": null,
   "metadata": {},
   "outputs": [],
   "source": [
    "list_items = {}\n",
    "content_item = user.itmems()\n",
    "for item in content_item:\n",
    "    list_items[item.itemid] = item\n",
    "\n",
    "folders = user.folders\n",
    "for folder in folders :\n",
    "    folder_items = user.items(folder=folder['title'])\n",
    "    for item in folder_items:\n",
    "            list_items[item.itemid] = item"
   ]
  },
  {
   "cell_type": "code",
   "execution_count": null,
   "metadata": {
    "scrolled": false
   },
   "outputs": [],
   "source": [
    "list_items"
   ]
  },
  {
   "cell_type": "markdown",
   "metadata": {},
   "source": [
    "loop to retrive item type"
   ]
  },
  {
   "cell_type": "code",
   "execution_count": null,
   "metadata": {},
   "outputs": [],
   "source": [
    "for key in list_items.keys():\n",
    "    item = list_items[key]\n",
    "    print (item.id +  \": \" + item.type)"
   ]
  },
  {
   "cell_type": "markdown",
   "metadata": {},
   "source": [
    "## Filter Items by type : Feature Service"
   ]
  },
  {
   "cell_type": "code",
   "execution_count": null,
   "metadata": {},
   "outputs": [],
   "source": [
    "select_by_type = []\n",
    "for key in list_items.keys():\n",
    "    if list_items[key].type =='Feature Service':\n",
    "        print(list_items[key])\n",
    "        select_by_type.append(list_items[key].id)"
   ]
  },
  {
   "cell_type": "code",
   "execution_count": null,
   "metadata": {},
   "outputs": [],
   "source": [
    "select_by_type"
   ]
  },
  {
   "cell_type": "markdown",
   "metadata": {},
   "source": [
    "## Create Folders on Target, based on Source Folders\n",
    "1. retrieve folders from source\n",
    "2. store it on folder_list variable\n",
    "3. create folder in target portal by looping folder_list"
   ]
  },
  {
   "cell_type": "code",
   "execution_count": null,
   "metadata": {
    "scrolled": true
   },
   "outputs": [],
   "source": [
    "folders = user.folders\n",
    "folders"
   ]
  },
  {
   "cell_type": "code",
   "execution_count": null,
   "metadata": {},
   "outputs": [],
   "source": [
    "folder_list = []\n",
    "for i in range(len(folders)):\n",
    "    folder_name = folders[i]['title']\n",
    "    folder_list.append(folder_name)"
   ]
  },
  {
   "cell_type": "code",
   "execution_count": null,
   "metadata": {},
   "outputs": [],
   "source": [
    "folder_list"
   ]
  },
  {
   "cell_type": "markdown",
   "metadata": {},
   "source": [
    "basic command of create folder is target.content.create_folder(foldername, folderowner)\n",
    "in this case, I assigned target_username as folder owner"
   ]
  },
  {
   "cell_type": "code",
   "execution_count": null,
   "metadata": {},
   "outputs": [],
   "source": [
    "for i in range(len(folder_list)):\n",
    "    target.content.create_folder(folder_list[i] , target_username)"
   ]
  },
  {
   "cell_type": "markdown",
   "metadata": {},
   "source": [
    "# Clone Items\n",
    "1. store item details of feature services from select_by_type to source_item_by_id by using source.content.get\n",
    "2. clone item in source_item_by_id using target.content.clone_items()"
   ]
  },
  {
   "cell_type": "code",
   "execution_count": null,
   "metadata": {},
   "outputs": [],
   "source": [
    "source_item_by_id = []\n",
    "for i in select_by_type:\n",
    "    source_item_by_id.append(source.content.get(i))\n",
    "    "
   ]
  },
  {
   "cell_type": "code",
   "execution_count": null,
   "metadata": {},
   "outputs": [],
   "source": [
    "display(source_item_by_id)"
   ]
  },
  {
   "cell_type": "code",
   "execution_count": null,
   "metadata": {
    "scrolled": true
   },
   "outputs": [],
   "source": [
    "for i in range(len(source_item_by_id)):\n",
    "    clone_item = target.content.clone_items(items=[source_item_by_id[i]])\n",
    "    for ci in clone_item:\n",
    "        display(ci)"
   ]
  }
 ],
 "metadata": {
  "kernelspec": {
   "display_name": "Python 3",
   "language": "python",
   "name": "python3"
  },
  "language_info": {
   "codemirror_mode": {
    "name": "ipython",
    "version": 3
   },
   "file_extension": ".py",
   "mimetype": "text/x-python",
   "name": "python",
   "nbconvert_exporter": "python",
   "pygments_lexer": "ipython3",
   "version": "3.6.6"
  }
 },
 "nbformat": 4,
 "nbformat_minor": 2
}
