{
 "cells": [
  {
   "cell_type": "code",
   "execution_count": null,
   "metadata": {},
   "outputs": [],
   "source": [
    "from arcgis.gis import GIS\n",
    "from IPython.display import display\n",
    "from getpass import getpass"
   ]
  },
  {
   "cell_type": "markdown",
   "metadata": {},
   "source": [
    "### add portal or agol credentials, both target and source.\n",
    "if you use AGOL, not necessary to add agol url.\n",
    "however if you use portal, you have to add portal url in GIS parameter like this\n",
    "GIS(https://portal.domainname.com/webadaptor, username=\"\", password=\"\")"
   ]
  },
  {
   "cell_type": "code",
   "execution_count": null,
   "metadata": {},
   "outputs": [],
   "source": [
    "source_username = input('username of portal source:')\n",
    "target_username = input('username of portal target:')\n",
    "source_password = getpass()\n",
    "target_password = getpass()\n",
    "source = GIS(username=source_username, password=source_password)\n",
    "target = GIS(username=target_username, password=target_password)"
   ]
  },
  {
   "cell_type": "markdown",
   "metadata": {},
   "source": [
    "### find item to clone\n",
    "this syntax will retrieve all items in single username"
   ]
  },
  {
   "cell_type": "code",
   "execution_count": null,
   "metadata": {
    "scrolled": false
   },
   "outputs": [],
   "source": [
    "user_source = input('portal\\'s username data source :')\n",
    "user = source.users.get(user_source)\n",
    "items = user.items()\n",
    "print (\"==> Root\")\n",
    "for item in items:\n",
    "    print (\"\\t{} : {} : {}\".format (item.title, item.type, item.id))\n",
    "folders = user.folders\n",
    "for folder in folders:\n",
    "    folderitems = user.items(folder['title'])\n",
    "    print (\"==> \" + folder['title'])\n",
    "    for item in folderitems:\n",
    "        print (\"\\t{} : {} : {}\".format (item.title, item.type, item.id))\n",
    "        "
   ]
  },
  {
   "cell_type": "markdown",
   "metadata": {},
   "source": [
    "### once you find item id to clone, get item details\n",
    "for example you find hosted feature service item id that you want to clone is : '3885f5cd6baa4a3a9bd2590779489bc5'"
   ]
  },
  {
   "cell_type": "code",
   "execution_count": null,
   "metadata": {},
   "outputs": [],
   "source": [
    "featureservice = source.content.get('3885f5cd6baa4a3a9bd2590779489bc5')\n",
    "featureservice"
   ]
  },
  {
   "cell_type": "markdown",
   "metadata": {},
   "source": [
    "target.content.clone_items() will re-publish your hosted feature service to your another agol/portal."
   ]
  },
  {
   "cell_type": "code",
   "execution_count": null,
   "metadata": {},
   "outputs": [],
   "source": [
    "clone_items = target.content.clone_items(items=[featureservice], copy_data=True)\n",
    "for ci in clone_items:\n",
    "    display(ci)"
   ]
  }
 ],
 "metadata": {
  "kernelspec": {
   "display_name": "Python 3",
   "language": "python",
   "name": "python3"
  },
  "language_info": {
   "codemirror_mode": {
    "name": "ipython",
    "version": 3
   },
   "file_extension": ".py",
   "mimetype": "text/x-python",
   "name": "python",
   "nbconvert_exporter": "python",
   "pygments_lexer": "ipython3",
   "version": "3.6.6"
  }
 },
 "nbformat": 4,
 "nbformat_minor": 2
}
